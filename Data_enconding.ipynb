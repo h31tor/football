{
 "cells": [
  {
   "cell_type": "code",
   "execution_count": 6,
   "id": "71e71143",
   "metadata": {},
   "outputs": [],
   "source": [
    "import pandas as pd"
   ]
  },
  {
   "cell_type": "code",
   "execution_count": 35,
   "id": "ca23ea1a",
   "metadata": {},
   "outputs": [],
   "source": [
    "teams = pd.read_csv('teams.csv')\n"
   ]
  },
  {
   "cell_type": "code",
   "execution_count": 36,
   "id": "99ccd054",
   "metadata": {},
   "outputs": [
    {
     "name": "stdout",
     "output_type": "stream",
     "text": [
      "Original rows: 96\n",
      "✅ File cleaned and saved.\n"
     ]
    }
   ],
   "source": [
    "import pandas as pd\n",
    "import unicodedata\n",
    "import csv\n",
    "\n",
    "def normalize_text(text):\n",
    "    if pd.isna(text):\n",
    "        return ''\n",
    "    text = str(text)\n",
    "    text = unicodedata.normalize('NFKD', text)\n",
    "    return ''.join(c for c in text if not unicodedata.combining(c))\n",
    "\n",
    "def clean_dataframe(df: pd.DataFrame) -> pd.DataFrame:\n",
    "    return df.map(normalize_text)\n",
    "\n",
    "# Open safely\n",
    "with open(\"teams.csv\", \"r\", encoding=\"utf-8\", errors=\"replace\") as f:\n",
    "    df = pd.read_csv(f, engine=\"c\")\n",
    "\n",
    "print(f\"Original rows: {len(df)}\")\n",
    "\n",
    "# Clean and save\n",
    "df_clean = clean_dataframe(df)\n",
    "df_clean.to_csv(\"teams_cleaned.csv\", index=False, encoding=\"utf-8\", quoting=1)\n",
    "\n",
    "print(\"✅ File cleaned and saved.\")\n"
   ]
  },
  {
   "cell_type": "code",
   "execution_count": 37,
   "id": "c2844bb2",
   "metadata": {},
   "outputs": [],
   "source": [
    "import csv\n",
    "\n",
    "df_clean.to_csv(\"teams_final.csv\", index=False, encoding=\"utf-8\", quoting=csv.QUOTE_MINIMAL, lineterminator='\\n')"
   ]
  },
  {
   "cell_type": "code",
   "execution_count": null,
   "id": "9d85a3e7",
   "metadata": {},
   "outputs": [],
   "source": []
  }
 ],
 "metadata": {
  "kernelspec": {
   "display_name": "base",
   "language": "python",
   "name": "python3"
  },
  "language_info": {
   "codemirror_mode": {
    "name": "ipython",
    "version": 3
   },
   "file_extension": ".py",
   "mimetype": "text/x-python",
   "name": "python",
   "nbconvert_exporter": "python",
   "pygments_lexer": "ipython3",
   "version": "3.12.7"
  }
 },
 "nbformat": 4,
 "nbformat_minor": 5
}
